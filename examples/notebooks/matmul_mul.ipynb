{
 "cells": [
  {
   "cell_type": "code",
   "execution_count": 1,
   "metadata": {},
   "outputs": [],
   "source": [
    "import torch\n",
    "import numpy\n",
    "\n",
    "from torch_mlir.dialects.torch.importer.jit_ir import ClassAnnotator, ModuleBuilder\n",
    "from torch_mlir.dialects.torch.importer.jit_ir.torchscript_annotations import extract_annotations\n",
    "from torch_mlir_e2e_test.torchscript.annotations import annotate_args, export\n",
    "\n",
    "from torch_mlir.passmanager import PassManager\n",
    "from air.backend import linalg_on_tensors as backend"
   ]
  },
  {
   "cell_type": "code",
   "execution_count": 2,
   "metadata": {},
   "outputs": [],
   "source": [
    "SIZE = [128,128]\n",
    "\n",
    "class MMult_Mult(torch.nn.Module):\n",
    "    def __init__(self):\n",
    "        super().__init__()\n",
    "\n",
    "    @export\n",
    "    @annotate_args([\n",
    "        None,\n",
    "        (SIZE, torch.int32, True),\n",
    "        (SIZE, torch.int32, True),\n",
    "        (SIZE, torch.int32, True)\n",
    "    ])\n",
    "    def forward(self, a, b, c):\n",
    "        x = torch.mm(b,c)\n",
    "        y = a*x\n",
    "        return y\n",
    "\n",
    "program = MMult_Mult()\n",
    "scripted = torch.jit.script(program)"
   ]
  },
  {
   "cell_type": "code",
   "execution_count": 3,
   "metadata": {},
   "outputs": [
    {
     "name": "stdout",
     "output_type": "stream",
     "text": [
      "#map = affine_map<(d0, d1) -> (d0, d1)>\n",
      "module attributes {torch.debug_module_name = \"MMult_Mult\"} {\n",
      "  func @forward(%arg0: tensor<128x128xi32>, %arg1: tensor<128x128xi32>, %arg2: tensor<128x128xi32>) -> tensor<?x?xi32> {\n",
      "    %c0_i32 = arith.constant 0 : i32\n",
      "    %0 = linalg.init_tensor [128, 128] : tensor<128x128xi32>\n",
      "    %1 = linalg.fill(%c0_i32, %0) : i32, tensor<128x128xi32> -> tensor<128x128xi32> \n",
      "    %2 = linalg.matmul ins(%arg1, %arg2 : tensor<128x128xi32>, tensor<128x128xi32>) outs(%1 : tensor<128x128xi32>) -> tensor<128x128xi32>\n",
      "    %3 = linalg.generic {indexing_maps = [#map, #map, #map], iterator_types = [\"parallel\", \"parallel\"]} ins(%arg0, %2 : tensor<128x128xi32>, tensor<128x128xi32>) outs(%0 : tensor<128x128xi32>) {\n",
      "    ^bb0(%arg3: i32, %arg4: i32, %arg5: i32):\n",
      "      %5 = arith.muli %arg3, %arg4 : i32\n",
      "      linalg.yield %5 : i32\n",
      "    } -> tensor<128x128xi32>\n",
      "    %4 = tensor.cast %3 : tensor<128x128xi32> to tensor<?x?xi32>\n",
      "    return %4 : tensor<?x?xi32>\n",
      "  }\n",
      "}\n",
      "\n"
     ]
    }
   ],
   "source": [
    "class_annotator = ClassAnnotator()\n",
    "extract_annotations(program, scripted, class_annotator)\n",
    "\n",
    "mb = ModuleBuilder()\n",
    "mb.import_module(scripted._c, class_annotator)\n",
    "\n",
    "pm = PassManager.parse('torchscript-module-to-torch-backend-pipeline,torch-backend-to-linalg-on-tensors-backend-pipeline', mb.module.context)\n",
    "pm.run(mb.module)\n",
    "print(mb.module)"
   ]
  },
  {
   "cell_type": "code",
   "execution_count": 4,
   "metadata": {},
   "outputs": [],
   "source": [
    "airbackend = backend.LinalgOnTensorsAirBackend()\n",
    "compiled = airbackend.compile(mb.module, verbose=False)"
   ]
  },
  {
   "cell_type": "code",
   "execution_count": 5,
   "metadata": {},
   "outputs": [
    {
     "name": "stderr",
     "output_type": "stream",
     "text": [
      "metal: info:      Registered shmem provider linux_shm.\n",
      "metal: info:      Registered shmem provider ion.reserved.\n",
      "metal: info:      Registered shmem provider ion.ion_system_contig_heap.\n",
      "metal: info:      Registered shmem provider ion.ion_system_heap.\n",
      "metal: info:      device xilinx-aiengine in use by driver uio_dmem_genirq\n",
      "metal: warning:   metal_linux_irq_handling: Failed to set scheduler: Unknown error -1.\n",
      "metal: info:      metal_uio_dev_open: No IRQ for device f70a0000.aie-npi.\n"
     ]
    }
   ],
   "source": [
    "jit_module = airbackend.load(compiled)"
   ]
  },
  {
   "cell_type": "code",
   "execution_count": 6,
   "metadata": {},
   "outputs": [
    {
     "name": "stdout",
     "output_type": "stream",
     "text": [
      "input:\n",
      "tensor([[39, 59, 61,  ..., 14, 59, 68],\n",
      "        [69, 56,  7,  ..., 97, 77, 59],\n",
      "        [33, 80, 10,  ..., 70, 14, 17],\n",
      "        ...,\n",
      "        [84, 21, 87,  ..., 59, 33,  9],\n",
      "        [98, 67, 59,  ..., 65, 99, 44],\n",
      "        [83,  7, 93,  ..., 86, 59, 50]], dtype=torch.int32)\n",
      "tensor([[89, 12, 52,  ..., 61, 26, 69],\n",
      "        [31, 15, 75,  ..., 33, 28, 96],\n",
      "        [ 0, 21,  9,  ...,  3,  8, 35],\n",
      "        ...,\n",
      "        [ 5, 10, 59,  ..., 25, 25, 77],\n",
      "        [50,  8, 97,  ..., 38, 53, 52],\n",
      "        [35, 64, 24,  ..., 97, 98, 81]], dtype=torch.int32)\n",
      "tensor([[64, 43, 88,  ..., 62, 64, 99],\n",
      "        [20, 98, 80,  ..., 74,  5, 14],\n",
      "        [98, 62,  6,  ..., 65, 78, 19],\n",
      "        ...,\n",
      "        [17, 37, 80,  ..., 88, 79, 63],\n",
      "        [41, 56, 57,  ..., 84,  7, 80],\n",
      "        [14, 52, 19,  ..., 66, 26, 64]], dtype=torch.int32)\n",
      "output:\n",
      "tensor([[14096355, 19112637, 19885573,  ...,  4829972, 20945649, 26494704],\n",
      "        [19625325, 14867888,  1855812,  ..., 27839582, 21603351, 16864560],\n",
      "        [10450902, 21970400,  2683840,  ..., 21361690,  4047386,  5145662],\n",
      "        ...,\n",
      "        [27754020,  6503406, 25577913,  ..., 19999820, 10916994,  3067974],\n",
      "        [34502272, 21757915, 18079606,  ..., 22880715, 31856022, 15469520],\n",
      "        [24114405,  1945965, 24414639,  ..., 25840592, 17357092, 15927700]],\n",
      "       dtype=torch.int32)\n"
     ]
    }
   ],
   "source": [
    "a = torch.randint(100, SIZE, dtype=torch.int32)\n",
    "b = torch.randint(100, SIZE, dtype=torch.int32)\n",
    "c = torch.randint(100, SIZE, dtype=torch.int32)\n",
    "\n",
    "# run the model on the device\n",
    "o = jit_module.forward(a.numpy(),b.numpy(),c.numpy())\n",
    "\n",
    "# print the results\n",
    "d = torch.tensor(o)    \n",
    "print(f\"input:\\n{a}\\n{b}\\n{c}\\noutput:\\n{d}\")"
   ]
  },
  {
   "cell_type": "code",
   "execution_count": 7,
   "metadata": {},
   "outputs": [
    {
     "name": "stdout",
     "output_type": "stream",
     "text": [
      "PASS!\n"
     ]
    }
   ],
   "source": [
    "# check the results\n",
    "if torch.equal(a*torch.mm(b,c),d):\n",
    "    print(\"PASS!\")\n",
    "else:\n",
    "    print(\"failed.\")"
   ]
  }
 ],
 "metadata": {
  "kernelspec": {
   "display_name": "air-mlir",
   "language": "python",
   "name": "air-mlir"
  },
  "language_info": {
   "codemirror_mode": {
    "name": "ipython",
    "version": 3
   },
   "file_extension": ".py",
   "mimetype": "text/x-python",
   "name": "python",
   "nbconvert_exporter": "python",
   "pygments_lexer": "ipython3",
   "version": "3.7.5"
  }
 },
 "nbformat": 4,
 "nbformat_minor": 4
}
