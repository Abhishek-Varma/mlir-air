{
 "cells": [
  {
   "cell_type": "code",
   "execution_count": 1,
   "metadata": {},
   "outputs": [],
   "source": [
    "import torch\n",
    "import torch_mlir\n",
    "import numpy\n",
    "\n",
    "from air.backend import linalg_on_tensors as backend"
   ]
  },
  {
   "cell_type": "code",
   "execution_count": 2,
   "metadata": {},
   "outputs": [],
   "source": [
    "SIZE = [128,128]\n",
    "DTYPE = torch.int32\n",
    "\n",
    "class MMult_Mult(torch.nn.Module):\n",
    "    def __init__(self):\n",
    "        super().__init__()\n",
    "\n",
    "    def forward(self, a, b, c):\n",
    "        x = torch.mm(b,c)\n",
    "        y = a*x\n",
    "        return y\n",
    "\n",
    "program = MMult_Mult()"
   ]
  },
  {
   "cell_type": "code",
   "execution_count": 3,
   "metadata": {},
   "outputs": [],
   "source": [
    "module = torch_mlir.compile(\n",
    "    program,\n",
    "    (torch.ones(SIZE, dtype=DTYPE), torch.ones(SIZE, dtype=DTYPE), torch.ones(SIZE, dtype=DTYPE)),\n",
    "    output_type=torch_mlir.OutputType.LINALG_ON_TENSORS\n",
    ")"
   ]
  },
  {
   "cell_type": "code",
   "execution_count": 4,
   "metadata": {},
   "outputs": [],
   "source": [
    "airbackend = backend.LinalgOnTensorsAirBackend()\n",
    "compiled = airbackend.compile(module, verbose=False)"
   ]
  },
  {
   "cell_type": "code",
   "execution_count": 5,
   "metadata": {},
   "outputs": [],
   "source": [
    "jit_module = airbackend.load(compiled)"
   ]
  },
  {
   "cell_type": "code",
   "execution_count": 6,
   "metadata": {},
   "outputs": [
    {
     "name": "stdout",
     "output_type": "stream",
     "text": [
      "input:\n",
      "tensor([[50, 65,  6,  ..., 98,  2, 27],\n",
      "        [66, 70, 66,  ..., 55, 67, 77],\n",
      "        [59, 23, 18,  ..., 63, 87, 45],\n",
      "        ...,\n",
      "        [21, 50, 63,  ..., 76, 24, 47],\n",
      "        [30, 86, 64,  ..., 34, 31, 82],\n",
      "        [37, 99, 12,  ..., 63, 92,  1]], dtype=torch.int32)\n",
      "tensor([[49, 94, 59,  ..., 98, 79, 48],\n",
      "        [85, 39, 53,  ...,  4, 68, 69],\n",
      "        [75, 11, 64,  ...,  0, 98, 33],\n",
      "        ...,\n",
      "        [86, 51, 78,  ..., 75, 36,  7],\n",
      "        [ 0, 61, 37,  ..., 70, 65, 20],\n",
      "        [ 4, 44, 59,  ..., 88, 53, 72]], dtype=torch.int32)\n",
      "tensor([[45, 71, 53,  ..., 80, 18, 21],\n",
      "        [23, 36, 17,  ..., 45, 80, 18],\n",
      "        [36,  1, 70,  ..., 45, 88, 68],\n",
      "        ...,\n",
      "        [85, 26, 81,  ...,  9, 46,  2],\n",
      "        [98, 28, 43,  ..., 62, 52, 66],\n",
      "        [24, 39, 38,  ..., 64, 73, 40]], dtype=torch.int32)\n",
      "output:\n",
      "tensor([[16198150, 21693295,  1865142,  ..., 35965412,   690436,  7566993],\n",
      "        [19832274, 21378210, 19271736,  ..., 17902940, 20828692, 20548143],\n",
      "        [17618226,  7979643,  5591880,  ..., 21935718, 29323785, 12531555],\n",
      "        ...,\n",
      "        [ 5922252, 16693950, 19450746,  ..., 25831412,  7563384, 12825313],\n",
      "        [ 9273780, 28241970, 19934976,  ..., 11349200, 10865748, 25382936],\n",
      "        [12103514, 34136883,  4137612,  ..., 22161825, 32966268,   304128]],\n",
      "       dtype=torch.int32)\n"
     ]
    }
   ],
   "source": [
    "a = torch.randint(100, SIZE, dtype=torch.int32)\n",
    "b = torch.randint(100, SIZE, dtype=torch.int32)\n",
    "c = torch.randint(100, SIZE, dtype=torch.int32)\n",
    "\n",
    "# run the model on the device\n",
    "o = jit_module.forward(a.numpy(),b.numpy(),c.numpy())\n",
    "\n",
    "# print the results\n",
    "d = torch.tensor(o)    \n",
    "print(f\"input:\\n{a}\\n{b}\\n{c}\\noutput:\\n{d}\")"
   ]
  },
  {
   "cell_type": "code",
   "execution_count": 7,
   "metadata": {},
   "outputs": [
    {
     "name": "stdout",
     "output_type": "stream",
     "text": [
      "PASS!\n"
     ]
    }
   ],
   "source": [
    "# check the results\n",
    "if torch.equal(a*torch.mm(b,c),d):\n",
    "    print(\"PASS!\")\n",
    "else:\n",
    "    print(\"failed.\")"
   ]
  },
  {
    "cell_type": "markdown",
    "id": "3f02dfbd",
    "metadata": {},
    "source": [
     "Copyright (C) 2022, Advanced Micro Devices, Inc. All rights reserved."
    ]
  }
 ],
 "metadata": {
  "kernelspec": {
   "display_name": "air-mlir",
   "language": "python",
   "name": "air-mlir"
  },
  "language_info": {
   "codemirror_mode": {
    "name": "ipython",
    "version": 3
   },
   "file_extension": ".py",
   "mimetype": "text/x-python",
   "name": "python",
   "nbconvert_exporter": "python",
   "pygments_lexer": "ipython3",
   "version": "3.8.0"
  }
 },
 "nbformat": 4,
 "nbformat_minor": 4
}
