{
 "cells": [
  {
   "cell_type": "code",
   "execution_count": null,
   "id": "upset-migration",
   "metadata": {},
   "outputs": [],
   "source": [
    "import air.compiler.util\n",
    "\n",
    "from air.mlir.dialects import func\n",
    "from air.mlir.dialects import linalg\n",
    "from air.mlir.ir import *\n",
    "import air.mlir.passmanager\n",
    "\n",
    "import sys"
   ]
  },
  {
   "cell_type": "code",
   "execution_count": null,
   "id": "contemporary-freeze",
   "metadata": {},
   "outputs": [],
   "source": [
    "def matmul_on_tensors(m, n, k, dtype):\n",
    "    module = Module.create()\n",
    "    with InsertionPoint(module.body):\n",
    "        @func.FuncOp.from_py_func(\n",
    "            RankedTensorType.get((m, k), dtype), RankedTensorType.get((k, n), dtype),\n",
    "            RankedTensorType.get((m, n), dtype))\n",
    "        def matmul(lhs, rhs, out):\n",
    "            linalg.matmul(lhs, rhs, outs=[out])\n",
    "    return module"
   ]
  },
  {
   "cell_type": "code",
   "execution_count": null,
   "id": "joined-integration",
   "metadata": {},
   "outputs": [],
   "source": [
    "with air.mlir.ir.Context(), Location.unknown():\n",
    "\n",
    "    air_module = matmul_on_tensors(512, 512, 512, BF16Type.get())\n",
    "    \n",
    "    # convert linalg on tensors to linalg on memrefs\n",
    "    pm = air.mlir.passmanager.PassManager.parse(air.compiler.util.LINALG_TENSOR_TO_MEMREF_PIPELINE)\n",
    "    pm.run(air_module)\n",
    "\n",
    "    # tile and map to air\n",
    "    pipeline = \",\".join([\n",
    "        \"air-linalg-codegen{l1-tile-size=32,32,32 l1-promote=true l2-tile-size=64,64,64 l2-promote=true}\",\n",
    "        \"affine-to-air{herd-assign-depth=1}\",\n",
    "        \"canonicalize\", \"cse\",\n",
    "    ])\n",
    "    pm = air.mlir.passmanager.PassManager.parse(pipeline)\n",
    "    pm.run(air_module)\n",
    "    \n",
    "    #print (\"\\nAIR Dialect Module\\n\")\n",
    "    #print (air_module)\n",
    "\n",
    "    # generate dependency information for runner\n",
    "    pm = air.mlir.passmanager.PassManager.parse(\"air-dependency,canonicalize,cse\")\n",
    "    pm.run(air_module)\n",
    "\n",
    "    print (\"\\nAIR Dialect Module (async)\\n\")\n",
    "    print (air_module)"
   ]
  },
  {
   "cell_type": "code",
   "execution_count": null,
   "id": "tired-boxing",
   "metadata": {},
   "outputs": [],
   "source": [
    "arch = {\n",
    "  \"clock\": 1000000000,\n",
    "  \"cores\": 1,\n",
    "  \"datatype\": {\n",
    "    \"bytes\": 2,\n",
    "    \"name\": \"fp16\"\n",
    "  },\n",
    "  \"devicename\": \"testdevice\",\n",
    "  \"interfaces\": [\n",
    "    {\n",
    "      \"bytes_per_second\": 100000000000,\n",
    "      \"dst\": 1,\n",
    "      \"src\": 0\n",
    "    },\n",
    "    {\n",
    "      \"bytes_per_second\": 100000000000,\n",
    "      \"dst\": 0,\n",
    "      \"src\": 1\n",
    "    },\n",
    "    {\n",
    "      \"bytes_per_second\": 100000000000,\n",
    "      \"dst\": 2,\n",
    "      \"src\": 0\n",
    "    },\n",
    "    {\n",
    "      \"bytes_per_second\": 100000000000,\n",
    "      \"dst\": 0,\n",
    "      \"src\": 2\n",
    "    },\n",
    "    {\n",
    "      \"bytes_per_second\": 100000000000,\n",
    "      \"dst\": 2,\n",
    "      \"src\": 1\n",
    "    },\n",
    "    {\n",
    "      \"bytes_per_second\": 100000000000,\n",
    "      \"dst\": 1,\n",
    "      \"src\": 2\n",
    "    }\n",
    "  ],\n",
    "  \"kernels\": {\n",
    "    \"linalg.copy\": {\n",
    "      \"efficiency\": 1,\n",
    "      \"name\": \"linalg.copy\"\n",
    "    },\n",
    "    \"linalg.fill\": {\n",
    "      \"efficiency\": 1,\n",
    "      \"name\": \"linalg.fill\"\n",
    "    },\n",
    "    \"linalg.matmul\": {\n",
    "      \"efficiency\": 1,\n",
    "      \"name\": \"linalg.matmul\"\n",
    "    }\n",
    "  },\n",
    "  \"ops_per_core_per_cycle\": 512,\n",
    "  \"num_herd_slots\": 1,\n",
    "  \"num_dispatch_queues\": 1\n",
    "}\n"
   ]
  },
  {
   "cell_type": "code",
   "execution_count": null,
   "id": "altered-hostel",
   "metadata": {},
   "outputs": [],
   "source": [
    "runner = air.compiler.util.Runner(arch)\n",
    "trace = runner.run(air_module, \"matmul\")"
   ]
  },
  {
   "cell_type": "code",
   "execution_count": null,
   "id": "vital-setup",
   "metadata": {},
   "outputs": [],
   "source": [
    "arch[\"num_herd_slots\"] = 4\n",
    "arch[\"num_dispatch_queues\"] = 8\n",
    "runner = air.compiler.util.Runner(arch)\n",
    "trace = runner.run(air_module, \"matmul\")"
   ]
  },
  {
   "cell_type": "code",
   "execution_count": null,
   "id": "irish-falls",
   "metadata": {},
   "outputs": [],
   "source": [
    "with open(\"/work/trace.out\", \"w\") as f:\n",
    "   f.write(trace)"
   ]
  },
  {
   "cell_type": "code",
   "execution_count": null,
   "id": "running-congress",
   "metadata": {},
   "outputs": [],
   "source": []
  }
 ],
 "metadata": {
  "kernelspec": {
   "display_name": "air-mlir",
   "language": "python",
   "name": "air-mlir"
  },
  "language_info": {
   "codemirror_mode": {
    "name": "ipython",
    "version": 3
   },
   "file_extension": ".py",
   "mimetype": "text/x-python",
   "name": "python",
   "nbconvert_exporter": "python",
   "pygments_lexer": "ipython3",
   "version": "3.8.6"
  }
 },
 "nbformat": 4,
 "nbformat_minor": 5
}
